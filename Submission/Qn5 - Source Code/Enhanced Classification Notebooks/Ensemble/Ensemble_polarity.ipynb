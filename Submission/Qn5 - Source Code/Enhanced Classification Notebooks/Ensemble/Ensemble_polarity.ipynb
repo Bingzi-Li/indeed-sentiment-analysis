{
  "nbformat": 4,
  "nbformat_minor": 0,
  "metadata": {
    "accelerator": "GPU",
    "colab": {
      "name": "Ensemble - polarity.ipynb",
      "provenance": [],
      "collapsed_sections": [],
      "toc_visible": true
    },
    "kernelspec": {
      "display_name": "Python 3",
      "name": "python3"
    }
  },
  "cells": [
    {
      "cell_type": "code",
      "metadata": {
        "colab": {
          "base_uri": "https://localhost:8080/"
        },
        "id": "2l91lwql64Bu",
        "outputId": "ae7fdc77-dcbd-425e-c0cd-de85ca48d7dd"
      },
      "source": [
        "import random\n",
        "import numpy as np\n",
        "\n",
        "SEED = 1234\n",
        "\n",
        "random.seed(SEED)\n",
        "np.random.seed(SEED)\n",
        "\n",
        "from google.colab import drive\n",
        "drive.mount('/content/drive/')\n",
        "import pandas as pd\n",
        "import os\n",
        "os.chdir('/content/drive/MyDrive')"
      ],
      "execution_count": null,
      "outputs": [
        {
          "output_type": "stream",
          "text": [
            "Mounted at /content/drive/\n"
          ],
          "name": "stdout"
        }
      ]
    },
    {
      "cell_type": "code",
      "metadata": {
        "colab": {
          "base_uri": "https://localhost:8080/"
        },
        "id": "cqNmkax27PGI",
        "outputId": "370f6be7-b4b6-4b6f-b188-7f3fe5c17d42"
      },
      "source": [
        "cd CZ4034/"
      ],
      "execution_count": null,
      "outputs": [
        {
          "output_type": "stream",
          "text": [
            "/content/drive/MyDrive/CZ4034\n"
          ],
          "name": "stdout"
        }
      ]
    },
    {
      "cell_type": "code",
      "metadata": {
        "id": "E7I1-HFT7Shc"
      },
      "source": [
        "df_train = pd.read_csv(\"./data/shared_data_train_pol.csv\")\n",
        "df_test = pd.read_csv(\"./data/shared_data_test_pol.csv\")"
      ],
      "execution_count": null,
      "outputs": []
    },
    {
      "cell_type": "markdown",
      "metadata": {
        "id": "GmsaPSVjhFxh"
      },
      "source": [
        "# Train Stacked Model\n"
      ]
    },
    {
      "cell_type": "code",
      "metadata": {
        "id": "_jpZYd9X61R8"
      },
      "source": [
        "SVM = pd.read_csv(\"./results/svm_pred_train_pol.csv\")\n",
        "XGB = pd.read_csv(\"./results/xgb_pred_train_pol.csv\")\n",
        "NAV = pd.read_csv(\"./results/bayes_pred_train_pol.csv\")"
      ],
      "execution_count": null,
      "outputs": []
    },
    {
      "cell_type": "code",
      "metadata": {
        "id": "0y-1YGr18N3h"
      },
      "source": [
        "train_X = pd.concat([SVM.iloc[:,1],NAV.iloc[:,1],XGB.iloc[:,1]],axis=1)\n",
        "train_y = df_train.label"
      ],
      "execution_count": null,
      "outputs": []
    },
    {
      "cell_type": "code",
      "metadata": {
        "id": "mBIv1Ub39hJI"
      },
      "source": [
        "SVM_test = pd.read_csv(\"./results/svm_pred_test_pol.csv\")\n",
        "XGB_test = pd.read_csv(\"./results/xgb_pred_test_pol.csv\")\n",
        "NAV_test = pd.read_csv(\"./results/bayes_pred_test_pol.csv\")"
      ],
      "execution_count": null,
      "outputs": []
    },
    {
      "cell_type": "code",
      "metadata": {
        "id": "GDHX6qKH9d20"
      },
      "source": [
        "test_X = pd.concat([SVM_test.iloc[:,1],NAV_test.iloc[:,1],XGB_test.iloc[:,1]],axis=1)\n",
        "test_y = df_test.label"
      ],
      "execution_count": null,
      "outputs": []
    },
    {
      "cell_type": "code",
      "metadata": {
        "id": "Evh-TBeJKuzp"
      },
      "source": [
        "test_y = [1 if i == 1 else 0 for i in test_y]\n",
        "train_y = [1 if i == 1 else 0 for i in train_y]"
      ],
      "execution_count": null,
      "outputs": []
    },
    {
      "cell_type": "code",
      "metadata": {
        "id": "27SUIRyK--eu"
      },
      "source": [
        "train_X.columns = ['SVM','NAV','XGB']\n",
        "test_X.columns = ['SVM','NAV','XGB']"
      ],
      "execution_count": null,
      "outputs": []
    },
    {
      "cell_type": "code",
      "metadata": {
        "id": "AXr5tW1kVQmW"
      },
      "source": [
        "train_X = train_X.replace([2],0)\n",
        "test_X = test_X.replace([2],0)"
      ],
      "execution_count": null,
      "outputs": []
    },
    {
      "cell_type": "code",
      "metadata": {
        "colab": {
          "base_uri": "https://localhost:8080/",
          "height": 419
        },
        "id": "SlGYWYP0Vndc",
        "outputId": "fa619330-f5d7-488f-e96c-0e0345813129"
      },
      "source": [
        "train_X"
      ],
      "execution_count": null,
      "outputs": [
        {
          "output_type": "execute_result",
          "data": {
            "text/html": [
              "<div>\n",
              "<style scoped>\n",
              "    .dataframe tbody tr th:only-of-type {\n",
              "        vertical-align: middle;\n",
              "    }\n",
              "\n",
              "    .dataframe tbody tr th {\n",
              "        vertical-align: top;\n",
              "    }\n",
              "\n",
              "    .dataframe thead th {\n",
              "        text-align: right;\n",
              "    }\n",
              "</style>\n",
              "<table border=\"1\" class=\"dataframe\">\n",
              "  <thead>\n",
              "    <tr style=\"text-align: right;\">\n",
              "      <th></th>\n",
              "      <th>SVM</th>\n",
              "      <th>NAV</th>\n",
              "      <th>XGB</th>\n",
              "    </tr>\n",
              "  </thead>\n",
              "  <tbody>\n",
              "    <tr>\n",
              "      <th>0</th>\n",
              "      <td>0</td>\n",
              "      <td>0</td>\n",
              "      <td>0</td>\n",
              "    </tr>\n",
              "    <tr>\n",
              "      <th>1</th>\n",
              "      <td>0</td>\n",
              "      <td>0</td>\n",
              "      <td>0</td>\n",
              "    </tr>\n",
              "    <tr>\n",
              "      <th>2</th>\n",
              "      <td>1</td>\n",
              "      <td>1</td>\n",
              "      <td>1</td>\n",
              "    </tr>\n",
              "    <tr>\n",
              "      <th>3</th>\n",
              "      <td>0</td>\n",
              "      <td>0</td>\n",
              "      <td>0</td>\n",
              "    </tr>\n",
              "    <tr>\n",
              "      <th>4</th>\n",
              "      <td>0</td>\n",
              "      <td>0</td>\n",
              "      <td>0</td>\n",
              "    </tr>\n",
              "    <tr>\n",
              "      <th>...</th>\n",
              "      <td>...</td>\n",
              "      <td>...</td>\n",
              "      <td>...</td>\n",
              "    </tr>\n",
              "    <tr>\n",
              "      <th>794</th>\n",
              "      <td>0</td>\n",
              "      <td>0</td>\n",
              "      <td>0</td>\n",
              "    </tr>\n",
              "    <tr>\n",
              "      <th>795</th>\n",
              "      <td>1</td>\n",
              "      <td>1</td>\n",
              "      <td>1</td>\n",
              "    </tr>\n",
              "    <tr>\n",
              "      <th>796</th>\n",
              "      <td>1</td>\n",
              "      <td>1</td>\n",
              "      <td>1</td>\n",
              "    </tr>\n",
              "    <tr>\n",
              "      <th>797</th>\n",
              "      <td>1</td>\n",
              "      <td>1</td>\n",
              "      <td>1</td>\n",
              "    </tr>\n",
              "    <tr>\n",
              "      <th>798</th>\n",
              "      <td>1</td>\n",
              "      <td>1</td>\n",
              "      <td>1</td>\n",
              "    </tr>\n",
              "  </tbody>\n",
              "</table>\n",
              "<p>799 rows × 3 columns</p>\n",
              "</div>"
            ],
            "text/plain": [
              "     SVM  NAV  XGB\n",
              "0      0    0    0\n",
              "1      0    0    0\n",
              "2      1    1    1\n",
              "3      0    0    0\n",
              "4      0    0    0\n",
              "..   ...  ...  ...\n",
              "794    0    0    0\n",
              "795    1    1    1\n",
              "796    1    1    1\n",
              "797    1    1    1\n",
              "798    1    1    1\n",
              "\n",
              "[799 rows x 3 columns]"
            ]
          },
          "metadata": {
            "tags": []
          },
          "execution_count": 11
        }
      ]
    },
    {
      "cell_type": "markdown",
      "metadata": {
        "id": "v8b6s5PdJf44"
      },
      "source": [
        "# Majority Voting\n"
      ]
    },
    {
      "cell_type": "code",
      "metadata": {
        "colab": {
          "base_uri": "https://localhost:8080/",
          "height": 419
        },
        "id": "KHR6kMvhKOEn",
        "outputId": "09d0780e-96e0-4e7d-eb50-ec62727bd0b3"
      },
      "source": [
        "test_X.mode(axis=1)"
      ],
      "execution_count": null,
      "outputs": [
        {
          "output_type": "execute_result",
          "data": {
            "text/html": [
              "<div>\n",
              "<style scoped>\n",
              "    .dataframe tbody tr th:only-of-type {\n",
              "        vertical-align: middle;\n",
              "    }\n",
              "\n",
              "    .dataframe tbody tr th {\n",
              "        vertical-align: top;\n",
              "    }\n",
              "\n",
              "    .dataframe thead th {\n",
              "        text-align: right;\n",
              "    }\n",
              "</style>\n",
              "<table border=\"1\" class=\"dataframe\">\n",
              "  <thead>\n",
              "    <tr style=\"text-align: right;\">\n",
              "      <th></th>\n",
              "      <th>0</th>\n",
              "    </tr>\n",
              "  </thead>\n",
              "  <tbody>\n",
              "    <tr>\n",
              "      <th>0</th>\n",
              "      <td>1</td>\n",
              "    </tr>\n",
              "    <tr>\n",
              "      <th>1</th>\n",
              "      <td>1</td>\n",
              "    </tr>\n",
              "    <tr>\n",
              "      <th>2</th>\n",
              "      <td>1</td>\n",
              "    </tr>\n",
              "    <tr>\n",
              "      <th>3</th>\n",
              "      <td>1</td>\n",
              "    </tr>\n",
              "    <tr>\n",
              "      <th>4</th>\n",
              "      <td>0</td>\n",
              "    </tr>\n",
              "    <tr>\n",
              "      <th>...</th>\n",
              "      <td>...</td>\n",
              "    </tr>\n",
              "    <tr>\n",
              "      <th>183</th>\n",
              "      <td>1</td>\n",
              "    </tr>\n",
              "    <tr>\n",
              "      <th>184</th>\n",
              "      <td>1</td>\n",
              "    </tr>\n",
              "    <tr>\n",
              "      <th>185</th>\n",
              "      <td>1</td>\n",
              "    </tr>\n",
              "    <tr>\n",
              "      <th>186</th>\n",
              "      <td>0</td>\n",
              "    </tr>\n",
              "    <tr>\n",
              "      <th>187</th>\n",
              "      <td>0</td>\n",
              "    </tr>\n",
              "  </tbody>\n",
              "</table>\n",
              "<p>188 rows × 1 columns</p>\n",
              "</div>"
            ],
            "text/plain": [
              "     0\n",
              "0    1\n",
              "1    1\n",
              "2    1\n",
              "3    1\n",
              "4    0\n",
              "..  ..\n",
              "183  1\n",
              "184  1\n",
              "185  1\n",
              "186  0\n",
              "187  0\n",
              "\n",
              "[188 rows x 1 columns]"
            ]
          },
          "metadata": {
            "tags": []
          },
          "execution_count": 12
        }
      ]
    },
    {
      "cell_type": "code",
      "metadata": {
        "colab": {
          "base_uri": "https://localhost:8080/"
        },
        "id": "mKedHkZDJk6T",
        "outputId": "b9d9a7e2-d582-483b-e148-1b4327f4bd89"
      },
      "source": [
        "vote = test_X.mode(axis=1)[0]\n",
        "\n",
        "from sklearn.metrics import confusion_matrix, classification_report\n",
        "class_names = ['negative', 'positive']\n",
        "print(classification_report(test_y, vote, target_names=class_names,digits=3))"
      ],
      "execution_count": null,
      "outputs": [
        {
          "output_type": "stream",
          "text": [
            "              precision    recall  f1-score   support\n",
            "\n",
            "    negative      0.918     0.947     0.932        94\n",
            "    positive      0.945     0.915     0.930        94\n",
            "\n",
            "    accuracy                          0.931       188\n",
            "   macro avg      0.931     0.931     0.931       188\n",
            "weighted avg      0.931     0.931     0.931       188\n",
            "\n"
          ],
          "name": "stdout"
        }
      ]
    },
    {
      "cell_type": "markdown",
      "metadata": {
        "id": "DCkMmuMJ-GrZ"
      },
      "source": [
        "# Logistic Regression"
      ]
    },
    {
      "cell_type": "code",
      "metadata": {
        "colab": {
          "base_uri": "https://localhost:8080/"
        },
        "id": "E5C9HW-9-MdA",
        "outputId": "859a9f62-2704-4424-e1ec-3ffe91b31951"
      },
      "source": [
        "from sklearn.linear_model import LogisticRegression\n",
        "model = LogisticRegression()\n",
        "model.fit(train_X, train_y)\n",
        "LR_pred = model.predict(test_X)\n",
        "from sklearn.metrics import confusion_matrix, classification_report\n",
        "class_names = ['negative', 'positive']\n",
        "print(classification_report(test_y, LR_pred, target_names=class_names,digits = 3))"
      ],
      "execution_count": null,
      "outputs": [
        {
          "output_type": "stream",
          "text": [
            "              precision    recall  f1-score   support\n",
            "\n",
            "    negative      0.918     0.947     0.932        94\n",
            "    positive      0.945     0.915     0.930        94\n",
            "\n",
            "    accuracy                          0.931       188\n",
            "   macro avg      0.931     0.931     0.931       188\n",
            "weighted avg      0.931     0.931     0.931       188\n",
            "\n"
          ],
          "name": "stdout"
        }
      ]
    },
    {
      "cell_type": "markdown",
      "metadata": {
        "id": "VNhGsczu-V88"
      },
      "source": [
        "# XGB"
      ]
    },
    {
      "cell_type": "code",
      "metadata": {
        "colab": {
          "base_uri": "https://localhost:8080/"
        },
        "id": "I3xnb1w7-bSw",
        "outputId": "cb894e4e-1cd2-4099-d21c-f1404e52516c"
      },
      "source": [
        "!pip install xgboost\n",
        "from xgboost import XGBClassifier\n",
        "from sklearn.model_selection import GridSearchCV\n",
        "\n",
        "# A parameter grid for XGBoost\n",
        "# can add more range\n",
        "# params = {\n",
        "#     'eta': [0.01, 0.1, 0.2],\n",
        "#     'max_depth': [3, 5, 7],\n",
        "#     'subsample': [0.5, 0.7, 1.0],\n",
        "#     'colsample_bytree': [0.5, 0.7, 1.0],\n",
        "#     'min_child_weight': [1, 5, 10],\n",
        "# }\n",
        "\n",
        "xgb = XGBClassifier(base_score=0.5, booster='gbtree',\n",
        "                                     colsample_bylevel=1, colsample_bynode=1,\n",
        "                                     colsample_bytree=1, gamma=0,\n",
        "                                     learning_rate=0.1, max_delta_step=0,\n",
        "                                     max_depth=3, min_child_weight=1,\n",
        "                                     missing=None, n_estimators=100, n_jobs=1,\n",
        "                                     nthread=None, objective='binary:logistic',\n",
        "                                     random_state=0, reg_alpha=0, reg_lambda=1,\n",
        "                                     scale_pos_weight=1, seed=None, silent=None,\n",
        "                                     subsample=1, verbosity=1)\n",
        "\n",
        "folds = 3\n",
        "\n",
        "# grid = GridSearchCV(estimator=xgb, param_grid=params, scoring='accuracy', cv=folds, verbose=3)\n",
        "xgb.fit(train_X, train_y)"
      ],
      "execution_count": null,
      "outputs": [
        {
          "output_type": "stream",
          "text": [
            "Requirement already satisfied: xgboost in /usr/local/lib/python3.7/dist-packages (0.90)\n",
            "Requirement already satisfied: scipy in /usr/local/lib/python3.7/dist-packages (from xgboost) (1.4.1)\n",
            "Requirement already satisfied: numpy in /usr/local/lib/python3.7/dist-packages (from xgboost) (1.19.5)\n"
          ],
          "name": "stdout"
        },
        {
          "output_type": "execute_result",
          "data": {
            "text/plain": [
              "XGBClassifier(base_score=0.5, booster='gbtree', colsample_bylevel=1,\n",
              "              colsample_bynode=1, colsample_bytree=1, gamma=0,\n",
              "              learning_rate=0.1, max_delta_step=0, max_depth=3,\n",
              "              min_child_weight=1, missing=None, n_estimators=100, n_jobs=1,\n",
              "              nthread=None, objective='binary:logistic', random_state=0,\n",
              "              reg_alpha=0, reg_lambda=1, scale_pos_weight=1, seed=None,\n",
              "              silent=None, subsample=1, verbosity=1)"
            ]
          },
          "metadata": {
            "tags": []
          },
          "execution_count": 20
        }
      ]
    },
    {
      "cell_type": "code",
      "metadata": {
        "colab": {
          "base_uri": "https://localhost:8080/"
        },
        "id": "qW-DTPzDyZge",
        "outputId": "014c3ff0-e2c9-48f9-d232-fa237cb5a796"
      },
      "source": [
        "xgb_pred = xgb.predict(test_X)\n",
        "from sklearn.metrics import confusion_matrix, classification_report\n",
        "class_names = ['neutral', 'polarised']\n",
        "print(classification_report(test_y, xgb_pred, target_names=class_names,digits=3))"
      ],
      "execution_count": null,
      "outputs": [
        {
          "output_type": "stream",
          "text": [
            "              precision    recall  f1-score   support\n",
            "\n",
            "     neutral      0.914     0.904     0.909        94\n",
            "   polarised      0.905     0.915     0.910        94\n",
            "\n",
            "    accuracy                          0.910       188\n",
            "   macro avg      0.910     0.910     0.910       188\n",
            "weighted avg      0.910     0.910     0.910       188\n",
            "\n"
          ],
          "name": "stdout"
        }
      ]
    },
    {
      "cell_type": "code",
      "metadata": {
        "colab": {
          "base_uri": "https://localhost:8080/"
        },
        "id": "keuwmLtg-5IU",
        "outputId": "3382e453-c8d7-45ad-ce18-e43812c985b6"
      },
      "source": [
        "xgb_pred = grid.predict(test_X)\n",
        "from sklearn.metrics import confusion_matrix, classification_report\n",
        "class_names = ['neutral', 'polarised']\n",
        "print(classification_report(test_y, xgb_pred, target_names=class_names))"
      ],
      "execution_count": null,
      "outputs": [
        {
          "output_type": "stream",
          "text": [
            "              precision    recall  f1-score   support\n",
            "\n",
            "     neutral       0.95      0.91      0.93        94\n",
            "   polarised       0.92      0.95      0.93        94\n",
            "\n",
            "    accuracy                           0.93       188\n",
            "   macro avg       0.93      0.93      0.93       188\n",
            "weighted avg       0.93      0.93      0.93       188\n",
            "\n"
          ],
          "name": "stdout"
        }
      ]
    },
    {
      "cell_type": "markdown",
      "metadata": {
        "id": "2rfTES9g_jEV"
      },
      "source": [
        "# Random Forest"
      ]
    },
    {
      "cell_type": "code",
      "metadata": {
        "colab": {
          "base_uri": "https://localhost:8080/"
        },
        "id": "1uHO2T9__ihD",
        "outputId": "67c836bf-b29f-4467-d9e5-83ad58dacdca"
      },
      "source": [
        "from sklearn.ensemble import RandomForestClassifier\n",
        "from sklearn.model_selection import GridSearchCV\n",
        "\n",
        "# A parameter grid for XGBoost\n",
        "# can add more range\n",
        "params = {'bootstrap': [True, False],\n",
        " 'max_depth': [10, 20, 30, None],\n",
        " 'max_features': ['auto', 'sqrt'],\n",
        " 'min_samples_leaf': [1, 2, 4],\n",
        " 'min_samples_split': [2, 5, 10],\n",
        " 'n_estimators': [200, 400, 600, 800, 1000]}\n",
        "\n",
        "# rf_model = RandomForestClassifier(bootstrap=True, ccp_alpha=0.0,\n",
        "#                                               class_weight=None,\n",
        "#                                               criterion='gini', max_depth=None,\n",
        "#                                               max_features='auto',\n",
        "#                                               max_leaf_nodes=None,\n",
        "#                                               max_samples=None,\n",
        "#                                               min_impurity_decrease=0.0,\n",
        "#                                               min_impurity_split=None,\n",
        "#                                               min_samples_leaf=1,\n",
        "#                                               min_samples_split=2,\n",
        "#                                               min_weight_fraction_leaf=0.0,\n",
        "#                                               n_estimators=100, n_jobs=None,\n",
        "#                                               random_state=None, verbose=0,\n",
        "#                                               warm_start=False)\n",
        "\n",
        "folds = 3\n",
        "\n",
        "grid = GridSearchCV(estimator=rf_model, param_grid=params, scoring='accuracy', cv=folds, verbose=3)\n",
        "rf_model.fit(train_X, train_y)"
      ],
      "execution_count": null,
      "outputs": [
        {
          "output_type": "execute_result",
          "data": {
            "text/plain": [
              "RandomForestClassifier(bootstrap=True, ccp_alpha=0.0, class_weight=None,\n",
              "                       criterion='gini', max_depth=None, max_features='auto',\n",
              "                       max_leaf_nodes=None, max_samples=None,\n",
              "                       min_impurity_decrease=0.0, min_impurity_split=None,\n",
              "                       min_samples_leaf=1, min_samples_split=2,\n",
              "                       min_weight_fraction_leaf=0.0, n_estimators=100,\n",
              "                       n_jobs=None, oob_score=False, random_state=None,\n",
              "                       verbose=0, warm_start=False)"
            ]
          },
          "metadata": {
            "tags": []
          },
          "execution_count": 23
        }
      ]
    },
    {
      "cell_type": "code",
      "metadata": {
        "colab": {
          "base_uri": "https://localhost:8080/"
        },
        "id": "baQiMdcfypLw",
        "outputId": "a8117126-aa3a-4e76-ca3e-aa3b2958b614"
      },
      "source": [
        "RF_pred = rf_model.predict(test_X)\n",
        "from sklearn.metrics import confusion_matrix, classification_report\n",
        "class_names = ['neutral', 'polarised']\n",
        "print(classification_report(test_y, RF_pred, target_names=class_names,digits=3))"
      ],
      "execution_count": null,
      "outputs": [
        {
          "output_type": "stream",
          "text": [
            "              precision    recall  f1-score   support\n",
            "\n",
            "     neutral      0.914     0.904     0.909        94\n",
            "   polarised      0.905     0.915     0.910        94\n",
            "\n",
            "    accuracy                          0.910       188\n",
            "   macro avg      0.910     0.910     0.910       188\n",
            "weighted avg      0.910     0.910     0.910       188\n",
            "\n"
          ],
          "name": "stdout"
        }
      ]
    },
    {
      "cell_type": "code",
      "metadata": {
        "colab": {
          "base_uri": "https://localhost:8080/"
        },
        "id": "vN2yn1uDMAAi",
        "outputId": "165f593d-df69-464c-a7b5-1c050c4a17c2"
      },
      "source": [
        "RF_pred = grid.predict(test_X)\n",
        "from sklearn.metrics import confusion_matrix, classification_report\n",
        "class_names = ['neutral', 'polarised']\n",
        "print(classification_report(test_y, RF_pred, target_names=class_names))"
      ],
      "execution_count": null,
      "outputs": [
        {
          "output_type": "stream",
          "text": [
            "              precision    recall  f1-score   support\n",
            "\n",
            "     neutral       0.91      0.91      0.91        94\n",
            "   polarised       0.91      0.90      0.91        94\n",
            "\n",
            "    accuracy                           0.91       188\n",
            "   macro avg       0.91      0.91      0.91       188\n",
            "weighted avg       0.91      0.91      0.91       188\n",
            "\n"
          ],
          "name": "stdout"
        }
      ]
    },
    {
      "cell_type": "code",
      "metadata": {
        "id": "D0bvJ1DJNuxd"
      },
      "source": [
        "a = train_X.values\n",
        "b = (a == a[:, [0]]).all(axis=1)"
      ],
      "execution_count": null,
      "outputs": []
    },
    {
      "cell_type": "code",
      "metadata": {
        "id": "aEM7W9krTLVm"
      },
      "source": [
        "res = pd.DataFrame()\n",
        "res['XGB'] = xgb_pred \n",
        "res['LR'] = LR_pred\n",
        "res['RF'] = RF_pred\n"
      ],
      "execution_count": null,
      "outputs": []
    },
    {
      "cell_type": "code",
      "metadata": {
        "id": "7YhlutdGUEUc"
      },
      "source": [
        "a = res.values\n",
        "b = (a == a[:, [0]]).all(axis=1)"
      ],
      "execution_count": null,
      "outputs": []
    },
    {
      "cell_type": "code",
      "metadata": {
        "colab": {
          "base_uri": "https://localhost:8080/"
        },
        "id": "WHHltjheULIO",
        "outputId": "44ca72de-cffb-4e63-9c0a-d0cb3f64377e"
      },
      "source": [
        "sum(b)"
      ],
      "execution_count": null,
      "outputs": [
        {
          "output_type": "execute_result",
          "data": {
            "text/plain": [
              "220"
            ]
          },
          "metadata": {
            "tags": []
          },
          "execution_count": 65
        }
      ]
    }
  ]
}