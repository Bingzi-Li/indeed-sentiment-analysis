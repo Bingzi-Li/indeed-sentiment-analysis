{
  "nbformat": 4,
  "nbformat_minor": 0,
  "metadata": {
    "accelerator": "GPU",
    "colab": {
      "name": "Ensemble - subjectivity.ipynb",
      "provenance": [],
      "collapsed_sections": [],
      "toc_visible": true
    },
    "kernelspec": {
      "display_name": "Python 3",
      "name": "python3"
    }
  },
  "cells": [
    {
      "cell_type": "code",
      "metadata": {
        "colab": {
          "base_uri": "https://localhost:8080/"
        },
        "id": "2l91lwql64Bu",
        "outputId": "519a2441-93c9-4b56-ab30-1f792199956d"
      },
      "source": [
        "import random\n",
        "import numpy as np\n",
        "\n",
        "SEED = 1234\n",
        "\n",
        "random.seed(SEED)\n",
        "np.random.seed(SEED)\n",
        "\n",
        "from google.colab import drive\n",
        "drive.mount('/content/drive/')\n",
        "import pandas as pd\n",
        "import os\n",
        "os.chdir('/content/drive/MyDrive')"
      ],
      "execution_count": null,
      "outputs": [
        {
          "output_type": "stream",
          "text": [
            "Mounted at /content/drive/\n"
          ],
          "name": "stdout"
        }
      ]
    },
    {
      "cell_type": "code",
      "metadata": {
        "colab": {
          "base_uri": "https://localhost:8080/"
        },
        "id": "cqNmkax27PGI",
        "outputId": "cf8d643c-d9c2-4e7d-b32e-d241a405b258"
      },
      "source": [
        "cd CZ4034/"
      ],
      "execution_count": null,
      "outputs": [
        {
          "output_type": "stream",
          "text": [
            "/content/drive/MyDrive/CZ4034\n"
          ],
          "name": "stdout"
        }
      ]
    },
    {
      "cell_type": "code",
      "metadata": {
        "id": "E7I1-HFT7Shc"
      },
      "source": [
        "df_train = pd.read_csv(\"./data/shared_data_train_subj.csv\")\n",
        "df_test = pd.read_csv(\"./data/shared_data_test_subj.csv\")"
      ],
      "execution_count": null,
      "outputs": []
    },
    {
      "cell_type": "markdown",
      "metadata": {
        "id": "GmsaPSVjhFxh"
      },
      "source": [
        "# Train Stacked Model\n"
      ]
    },
    {
      "cell_type": "code",
      "metadata": {
        "id": "_jpZYd9X61R8"
      },
      "source": [
        "SVM = pd.read_csv(\"./results/svm_pred_train_subj.csv\")\n",
        "XGB = pd.read_csv(\"./results/xgb_pred_train_subj.csv\")\n",
        "NAV = pd.read_csv(\"./results/bayes_pred_train_subj.csv\")"
      ],
      "execution_count": null,
      "outputs": []
    },
    {
      "cell_type": "code",
      "metadata": {
        "colab": {
          "base_uri": "https://localhost:8080/"
        },
        "id": "GPSRpXGj8dot",
        "outputId": "0476727b-f5a1-4170-c423-8be90e35c6d6"
      },
      "source": [
        "SVM.iloc[:,1]"
      ],
      "execution_count": null,
      "outputs": [
        {
          "output_type": "execute_result",
          "data": {
            "text/plain": [
              "0      0\n",
              "1      0\n",
              "2      1\n",
              "3      0\n",
              "4      1\n",
              "      ..\n",
              "775    1\n",
              "776    0\n",
              "777    1\n",
              "778    0\n",
              "779    0\n",
              "Name: 0, Length: 780, dtype: int64"
            ]
          },
          "metadata": {
            "tags": []
          },
          "execution_count": 6
        }
      ]
    },
    {
      "cell_type": "code",
      "metadata": {
        "id": "0y-1YGr18N3h"
      },
      "source": [
        "train_X = pd.concat([SVM.iloc[:,1],NAV.iloc[:,1],XGB.iloc[:,1]],axis=1)\n",
        "train_y = df_train.label"
      ],
      "execution_count": null,
      "outputs": []
    },
    {
      "cell_type": "code",
      "metadata": {
        "id": "mBIv1Ub39hJI"
      },
      "source": [
        "SVM_test = pd.read_csv(\"./results/svm_pred_test_subj.csv\")\n",
        "XGB_test = pd.read_csv(\"./results/xgb_pred_test_subj.csv\")\n",
        "NAV_test = pd.read_csv(\"./results/bayes_pred_test_subj.csv\")"
      ],
      "execution_count": null,
      "outputs": []
    },
    {
      "cell_type": "code",
      "metadata": {
        "id": "GDHX6qKH9d20"
      },
      "source": [
        "test_X = pd.concat([SVM_test.iloc[:,1],NAV_test.iloc[:,1],XGB_test.iloc[:,1]],axis=1)\n",
        "test_y = df_test.label"
      ],
      "execution_count": null,
      "outputs": []
    },
    {
      "cell_type": "code",
      "metadata": {
        "id": "27SUIRyK--eu"
      },
      "source": [
        "train_X.columns = ['SVM','NAV','XGB']\n",
        "test_X.columns = ['SVM','NAV','XGB']"
      ],
      "execution_count": null,
      "outputs": []
    },
    {
      "cell_type": "markdown",
      "metadata": {
        "id": "VSjVVI-o5TWw"
      },
      "source": [
        "# Majority Voting"
      ]
    },
    {
      "cell_type": "code",
      "metadata": {
        "colab": {
          "base_uri": "https://localhost:8080/"
        },
        "id": "3OhDT5yJ8cJJ",
        "outputId": "c7563956-f41c-448c-9aef-ec25437f2365"
      },
      "source": [
        "sum(train_X.iloc[0,:])"
      ],
      "execution_count": null,
      "outputs": [
        {
          "output_type": "execute_result",
          "data": {
            "text/plain": [
              "0"
            ]
          },
          "metadata": {
            "tags": []
          },
          "execution_count": 11
        }
      ]
    },
    {
      "cell_type": "code",
      "metadata": {
        "id": "55Zmn9c55ahc"
      },
      "source": [
        "vote = []\n",
        "for idx, row in test_X.iterrows():\n",
        "  if sum(row) >= 2:\n",
        "    vote.append(1)\n",
        "  else:\n",
        "    vote.append(0)"
      ],
      "execution_count": null,
      "outputs": []
    },
    {
      "cell_type": "code",
      "metadata": {
        "colab": {
          "base_uri": "https://localhost:8080/"
        },
        "id": "B8fcVkZQ9BFY",
        "outputId": "8fe90251-d8bd-49a0-ce65-88da7dc1c21d"
      },
      "source": [
        "from sklearn.metrics import confusion_matrix, classification_report\n",
        "class_names = ['neutral', 'polarised']\n",
        "print(classification_report(test_y, vote, target_names=class_names,digits = 3))"
      ],
      "execution_count": null,
      "outputs": [
        {
          "output_type": "stream",
          "text": [
            "              precision    recall  f1-score   support\n",
            "\n",
            "     neutral      0.641     0.682     0.661       110\n",
            "   polarised      0.660     0.618     0.638       110\n",
            "\n",
            "    accuracy                          0.650       220\n",
            "   macro avg      0.651     0.650     0.650       220\n",
            "weighted avg      0.651     0.650     0.650       220\n",
            "\n"
          ],
          "name": "stdout"
        }
      ]
    },
    {
      "cell_type": "markdown",
      "metadata": {
        "id": "DCkMmuMJ-GrZ"
      },
      "source": [
        "# Logistic Regression"
      ]
    },
    {
      "cell_type": "code",
      "metadata": {
        "colab": {
          "base_uri": "https://localhost:8080/"
        },
        "id": "E5C9HW-9-MdA",
        "outputId": "18b53dc1-72b9-452b-970c-8de46f71b944"
      },
      "source": [
        "from sklearn.linear_model import LogisticRegression\n",
        "model = LogisticRegression()\n",
        "model.fit(train_X, train_y)\n",
        "LR_pred = model.predict(test_X)\n",
        "from sklearn.metrics import confusion_matrix, classification_report\n",
        "class_names = ['neutral', 'polarised']\n",
        "print(classification_report(test_y, LR_pred, target_names=class_names,digits = 3))"
      ],
      "execution_count": null,
      "outputs": [
        {
          "output_type": "stream",
          "text": [
            "              precision    recall  f1-score   support\n",
            "\n",
            "     neutral      0.630     0.682     0.655       110\n",
            "   polarised      0.653     0.600     0.626       110\n",
            "\n",
            "    accuracy                          0.641       220\n",
            "   macro avg      0.642     0.641     0.640       220\n",
            "weighted avg      0.642     0.641     0.640       220\n",
            "\n"
          ],
          "name": "stdout"
        }
      ]
    },
    {
      "cell_type": "markdown",
      "metadata": {
        "id": "VNhGsczu-V88"
      },
      "source": [
        "# XGB"
      ]
    },
    {
      "cell_type": "code",
      "metadata": {
        "colab": {
          "base_uri": "https://localhost:8080/"
        },
        "id": "I3xnb1w7-bSw",
        "outputId": "5398dd78-2250-4ad6-da8e-ab85aac67279"
      },
      "source": [
        "!pip install xgboost\n",
        "from xgboost import XGBClassifier\n",
        "from sklearn.model_selection import GridSearchCV\n",
        "\n",
        "# A parameter grid for XGBoost\n",
        "# can add more range\n",
        "params = {\n",
        "    'eta': [0.01, 0.1, 0.2],\n",
        "    'max_depth': [3, 5, 7],\n",
        "    'subsample': [0.5, 0.7, 1.0],\n",
        "    'colsample_bytree': [0.5, 0.7, 1.0],\n",
        "    'min_child_weight': [1, 5, 10],\n",
        "}\n",
        "\n",
        "xgb = XGBClassifier(base_score=0.5, booster='gbtree',\n",
        "                                     colsample_bylevel=1, colsample_bynode=1,\n",
        "                                     colsample_bytree=1, gamma=0,\n",
        "                                     learning_rate=0.1, max_delta_step=0,\n",
        "                                     max_depth=3, min_child_weight=1,\n",
        "                                     missing=None, n_estimators=100, n_jobs=1,\n",
        "                                     nthread=None, objective='binary:logistic',\n",
        "                                     random_state=0, reg_alpha=0, reg_lambda=1,\n",
        "                                     scale_pos_weight=1, seed=None, silent=None,\n",
        "                                     subsample=1, verbosity=1)\n",
        "\n",
        "folds = 3\n",
        "\n",
        "grid = GridSearchCV(estimator=xgb, param_grid=params, scoring='accuracy', cv=folds, verbose=3)\n",
        "xgb.fit(train_X, train_y)"
      ],
      "execution_count": null,
      "outputs": [
        {
          "output_type": "stream",
          "text": [
            "Requirement already satisfied: xgboost in /usr/local/lib/python3.7/dist-packages (0.90)\n",
            "Requirement already satisfied: scipy in /usr/local/lib/python3.7/dist-packages (from xgboost) (1.4.1)\n",
            "Requirement already satisfied: numpy in /usr/local/lib/python3.7/dist-packages (from xgboost) (1.19.5)\n"
          ],
          "name": "stdout"
        },
        {
          "output_type": "execute_result",
          "data": {
            "text/plain": [
              "XGBClassifier(base_score=0.5, booster='gbtree', colsample_bylevel=1,\n",
              "              colsample_bynode=1, colsample_bytree=1, gamma=0,\n",
              "              learning_rate=0.1, max_delta_step=0, max_depth=3,\n",
              "              min_child_weight=1, missing=None, n_estimators=100, n_jobs=1,\n",
              "              nthread=None, objective='binary:logistic', random_state=0,\n",
              "              reg_alpha=0, reg_lambda=1, scale_pos_weight=1, seed=None,\n",
              "              silent=None, subsample=1, verbosity=1)"
            ]
          },
          "metadata": {
            "tags": []
          },
          "execution_count": 19
        }
      ]
    },
    {
      "cell_type": "code",
      "metadata": {
        "colab": {
          "base_uri": "https://localhost:8080/"
        },
        "id": "lq-J8rlIxOx1",
        "outputId": "e390264b-73c2-4c67-d37b-418370d9e324"
      },
      "source": [
        "xgb_pred = xgb.predict(test_X)\n",
        "from sklearn.metrics import confusion_matrix, classification_report\n",
        "class_names = ['neutral', 'polarised']\n",
        "print(classification_report(test_y, xgb_pred, target_names=class_names,digits = 3))"
      ],
      "execution_count": null,
      "outputs": [
        {
          "output_type": "stream",
          "text": [
            "              precision    recall  f1-score   support\n",
            "\n",
            "     neutral      0.630     0.682     0.655       110\n",
            "   polarised      0.653     0.600     0.626       110\n",
            "\n",
            "    accuracy                          0.641       220\n",
            "   macro avg      0.642     0.641     0.640       220\n",
            "weighted avg      0.642     0.641     0.640       220\n",
            "\n"
          ],
          "name": "stdout"
        }
      ]
    },
    {
      "cell_type": "code",
      "metadata": {
        "colab": {
          "base_uri": "https://localhost:8080/"
        },
        "id": "keuwmLtg-5IU",
        "outputId": "d0dd19d9-5d69-45cf-838c-be86aa04b41e"
      },
      "source": [
        "xgb_pred = grid.predict(test_X)\n",
        "from sklearn.metrics import confusion_matrix, classification_report\n",
        "class_names = ['neutral', 'polarised']\n",
        "print(classification_report(test_y, xgb_pred, target_names=class_names))"
      ],
      "execution_count": null,
      "outputs": [
        {
          "output_type": "stream",
          "text": [
            "              precision    recall  f1-score   support\n",
            "\n",
            "     neutral       0.63      0.68      0.66       110\n",
            "   polarised       0.65      0.60      0.63       110\n",
            "\n",
            "    accuracy                           0.64       220\n",
            "   macro avg       0.64      0.64      0.64       220\n",
            "weighted avg       0.64      0.64      0.64       220\n",
            "\n"
          ],
          "name": "stdout"
        }
      ]
    },
    {
      "cell_type": "markdown",
      "metadata": {
        "id": "2rfTES9g_jEV"
      },
      "source": [
        "# Random Forest"
      ]
    },
    {
      "cell_type": "code",
      "metadata": {
        "colab": {
          "base_uri": "https://localhost:8080/"
        },
        "id": "1uHO2T9__ihD",
        "outputId": "239995c5-49ad-4496-8731-14b1d631f082"
      },
      "source": [
        "from sklearn.ensemble import RandomForestClassifier\n",
        "from sklearn.model_selection import GridSearchCV\n",
        "\n",
        "# A parameter grid for XGBoost\n",
        "# can add more range\n",
        "# params = {'bootstrap': [True, False],\n",
        "#  'max_depth': [10, 20, 30, None],\n",
        "#  'max_features': ['auto', 'sqrt'],\n",
        "#  'min_samples_leaf': [1, 2, 4],\n",
        "#  'min_samples_split': [2, 5, 10],\n",
        "#  'n_estimators': [200, 400, 600, 800, 1000]}\n",
        "\n",
        "rf_model = RandomForestClassifier(bootstrap=True, ccp_alpha=0.0,\n",
        "                                              class_weight=None,\n",
        "                                              criterion='gini', max_depth=None,\n",
        "                                              max_features='auto',\n",
        "                                              max_leaf_nodes=None,\n",
        "                                              max_samples=None,\n",
        "                                              min_impurity_decrease=0.0,\n",
        "                                              min_impurity_split=None,\n",
        "                                              min_samples_leaf=1,\n",
        "                                              min_samples_split=2,\n",
        "                                              min_weight_fraction_leaf=0.0,\n",
        "                                              n_estimators=100, n_jobs=None,\n",
        "                                              random_state=None, verbose=0,\n",
        "                                              warm_start=False)\n",
        "\n",
        "folds = 3\n",
        "\n",
        "# grid = GridSearchCV(estimator=rf_model, param_grid=params, scoring='accuracy', cv=folds, verbose=3)\n",
        "rf_model.fit(train_X, train_y)"
      ],
      "execution_count": null,
      "outputs": [
        {
          "output_type": "execute_result",
          "data": {
            "text/plain": [
              "RandomForestClassifier(bootstrap=True, ccp_alpha=0.0, class_weight=None,\n",
              "                       criterion='gini', max_depth=None, max_features='auto',\n",
              "                       max_leaf_nodes=None, max_samples=None,\n",
              "                       min_impurity_decrease=0.0, min_impurity_split=None,\n",
              "                       min_samples_leaf=1, min_samples_split=2,\n",
              "                       min_weight_fraction_leaf=0.0, n_estimators=100,\n",
              "                       n_jobs=None, oob_score=False, random_state=None,\n",
              "                       verbose=0, warm_start=False)"
            ]
          },
          "metadata": {
            "tags": []
          },
          "execution_count": 16
        }
      ]
    },
    {
      "cell_type": "code",
      "metadata": {
        "colab": {
          "base_uri": "https://localhost:8080/"
        },
        "id": "vN2yn1uDMAAi",
        "outputId": "80b020de-98aa-411a-b226-e09a31a0a4ef"
      },
      "source": [
        "pred_y = rf_model.predict(test_X)\n",
        "from sklearn.metrics import confusion_matrix, classification_report\n",
        "class_names = ['neutral', 'polarised']\n",
        "print(classification_report(test_y, pred_y, target_names=class_names,digits = 3))"
      ],
      "execution_count": null,
      "outputs": [
        {
          "output_type": "stream",
          "text": [
            "              precision    recall  f1-score   support\n",
            "\n",
            "     neutral      0.630     0.682     0.655       110\n",
            "   polarised      0.653     0.600     0.626       110\n",
            "\n",
            "    accuracy                          0.641       220\n",
            "   macro avg      0.642     0.641     0.640       220\n",
            "weighted avg      0.642     0.641     0.640       220\n",
            "\n"
          ],
          "name": "stdout"
        }
      ]
    }
  ]
}