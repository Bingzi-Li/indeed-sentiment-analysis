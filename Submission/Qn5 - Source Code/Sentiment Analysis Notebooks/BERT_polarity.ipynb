{
  "nbformat": 4,
  "nbformat_minor": 0,
  "metadata": {
    "accelerator": "GPU",
    "colab": {
      "name": "Transformer - polarity.ipynb",
      "provenance": [],
      "collapsed_sections": []
    },
    "kernelspec": {
      "display_name": "Python 3",
      "name": "python3"
    }
  },
  "cells": [
    {
      "cell_type": "code",
      "metadata": {
        "id": "iGdk3NBijVcM"
      },
      "source": [
        "import torch\n",
        "\n",
        "import random\n",
        "import numpy as np\n",
        "\n",
        "SEED = 1234\n",
        "\n",
        "random.seed(SEED)\n",
        "np.random.seed(SEED)\n",
        "torch.manual_seed(SEED)\n",
        "torch.backends.cudnn.deterministic = True"
      ],
      "execution_count": null,
      "outputs": []
    },
    {
      "cell_type": "code",
      "metadata": {
        "colab": {
          "base_uri": "https://localhost:8080/"
        },
        "id": "2HtPei4oiz4v",
        "outputId": "3245cc13-9e6f-416e-b90b-11d175e26300"
      },
      "source": [
        "!pip install transformers==3\n",
        "\n",
        "from transformers import BertTokenizer"
      ],
      "execution_count": null,
      "outputs": [
        {
          "output_type": "stream",
          "text": [
            "Requirement already satisfied: transformers==3 in /usr/local/lib/python3.7/dist-packages (3.0.0)\n",
            "Requirement already satisfied: tqdm>=4.27 in /usr/local/lib/python3.7/dist-packages (from transformers==3) (4.41.1)\n",
            "Requirement already satisfied: tokenizers==0.8.0-rc4 in /usr/local/lib/python3.7/dist-packages (from transformers==3) (0.8.0rc4)\n",
            "Requirement already satisfied: filelock in /usr/local/lib/python3.7/dist-packages (from transformers==3) (3.0.12)\n",
            "Requirement already satisfied: sentencepiece in /usr/local/lib/python3.7/dist-packages (from transformers==3) (0.1.95)\n",
            "Requirement already satisfied: packaging in /usr/local/lib/python3.7/dist-packages (from transformers==3) (20.9)\n",
            "Requirement already satisfied: regex!=2019.12.17 in /usr/local/lib/python3.7/dist-packages (from transformers==3) (2019.12.20)\n",
            "Requirement already satisfied: requests in /usr/local/lib/python3.7/dist-packages (from transformers==3) (2.23.0)\n",
            "Requirement already satisfied: sacremoses in /usr/local/lib/python3.7/dist-packages (from transformers==3) (0.0.43)\n",
            "Requirement already satisfied: numpy in /usr/local/lib/python3.7/dist-packages (from transformers==3) (1.19.5)\n",
            "Requirement already satisfied: pyparsing>=2.0.2 in /usr/local/lib/python3.7/dist-packages (from packaging->transformers==3) (2.4.7)\n",
            "Requirement already satisfied: certifi>=2017.4.17 in /usr/local/lib/python3.7/dist-packages (from requests->transformers==3) (2020.12.5)\n",
            "Requirement already satisfied: chardet<4,>=3.0.2 in /usr/local/lib/python3.7/dist-packages (from requests->transformers==3) (3.0.4)\n",
            "Requirement already satisfied: urllib3!=1.25.0,!=1.25.1,<1.26,>=1.21.1 in /usr/local/lib/python3.7/dist-packages (from requests->transformers==3) (1.24.3)\n",
            "Requirement already satisfied: idna<3,>=2.5 in /usr/local/lib/python3.7/dist-packages (from requests->transformers==3) (2.10)\n",
            "Requirement already satisfied: click in /usr/local/lib/python3.7/dist-packages (from sacremoses->transformers==3) (7.1.2)\n",
            "Requirement already satisfied: six in /usr/local/lib/python3.7/dist-packages (from sacremoses->transformers==3) (1.15.0)\n",
            "Requirement already satisfied: joblib in /usr/local/lib/python3.7/dist-packages (from sacremoses->transformers==3) (1.0.1)\n"
          ],
          "name": "stdout"
        }
      ]
    },
    {
      "cell_type": "code",
      "metadata": {
        "id": "6rshPJMPXx1p"
      },
      "source": [
        "from google.colab import drive\n",
        "drive.mount('/content/drive/')\n",
        "\n",
        "import os\n",
        "os.chdir('/content/drive/MyDrive')\n",
        "!ls\n"
      ],
      "execution_count": null,
      "outputs": []
    },
    {
      "cell_type": "code",
      "metadata": {
        "colab": {
          "base_uri": "https://localhost:8080/"
        },
        "id": "l-ZnXw8vagLE",
        "outputId": "d1533c82-3c4a-492c-beb3-4d3e1cecc361"
      },
      "source": [
        "cd CZ4034/"
      ],
      "execution_count": null,
      "outputs": [
        {
          "output_type": "stream",
          "text": [
            "/content/drive/MyDrive/CZ4034\n"
          ],
          "name": "stdout"
        }
      ]
    },
    {
      "cell_type": "code",
      "metadata": {
        "colab": {
          "base_uri": "https://localhost:8080/",
          "height": 1000
        },
        "id": "rB_ROOb1Qq1I",
        "outputId": "07bd322d-24d4-451f-b220-fd4fd4a1bd2a"
      },
      "source": [
        "import pandas as pd\n",
        "\n",
        "pd.options.display.max_colwidth = 10000\n",
        "\n",
        "df=pd.read_csv(\"all_matched.csv\")\n",
        "df.head()"
      ],
      "execution_count": null,
      "outputs": [
        {
          "output_type": "execute_result",
          "data": {
            "text/html": [
              "<div>\n",
              "<style scoped>\n",
              "    .dataframe tbody tr th:only-of-type {\n",
              "        vertical-align: middle;\n",
              "    }\n",
              "\n",
              "    .dataframe tbody tr th {\n",
              "        vertical-align: top;\n",
              "    }\n",
              "\n",
              "    .dataframe thead th {\n",
              "        text-align: right;\n",
              "    }\n",
              "</style>\n",
              "<table border=\"1\" class=\"dataframe\">\n",
              "  <thead>\n",
              "    <tr style=\"text-align: right;\">\n",
              "      <th></th>\n",
              "      <th>category</th>\n",
              "      <th>id</th>\n",
              "      <th>title</th>\n",
              "      <th>review</th>\n",
              "      <th>job</th>\n",
              "      <th>place</th>\n",
              "      <th>date</th>\n",
              "      <th>URL</th>\n",
              "      <th>label_1</th>\n",
              "      <th>label_2</th>\n",
              "      <th>unmatched</th>\n",
              "      <th>Unnamed: 11</th>\n",
              "    </tr>\n",
              "  </thead>\n",
              "  <tbody>\n",
              "    <tr>\n",
              "      <th>0</th>\n",
              "      <td>Banks and Financial Services</td>\n",
              "      <td>50</td>\n",
              "      <td>Good pay, poor work to life balance</td>\n",
              "      <td>Pay was good, consistent bonuses. You work all the time - but it is well compensated for. Little work to life balance. Work most weekends. Consistent incentives.</td>\n",
              "      <td>Loan Originator (Current Employee)</td>\n",
              "      <td>Cleveland, OH</td>\n",
              "      <td>October 23, 2020</td>\n",
              "      <td>https://www.indeed.com/cmp/Quicken-Loans/reviews?start=40</td>\n",
              "      <td>Neutral</td>\n",
              "      <td>Neutral</td>\n",
              "      <td>False</td>\n",
              "      <td>NaN</td>\n",
              "    </tr>\n",
              "    <tr>\n",
              "      <th>1</th>\n",
              "      <td>Banks and Financial Services</td>\n",
              "      <td>65</td>\n",
              "      <td>Family environment and great comp/benefits</td>\n",
              "      <td>I loved working with Quicken Loans. As a mortgage banker your time gets lost quick. You don't really realize how much you are working until you take a step back. All positions besides a mortgage banker have a pretty good work-life balance. The best company to work for. Period.</td>\n",
              "      <td>Account Executive/Mortgage Banker (Former Employee)</td>\n",
              "      <td>Detroit, MI</td>\n",
              "      <td>September 21, 2020</td>\n",
              "      <td>https://www.indeed.com/cmp/Quicken-Loans/reviews?start=60</td>\n",
              "      <td>Positive</td>\n",
              "      <td>Positive</td>\n",
              "      <td>False</td>\n",
              "      <td>NaN</td>\n",
              "    </tr>\n",
              "    <tr>\n",
              "      <th>2</th>\n",
              "      <td>Banks and Financial Services</td>\n",
              "      <td>66</td>\n",
              "      <td>Penny pinchers and terrible culture</td>\n",
              "      <td>Company cares more about selling their casinos and buying baseball teams than their technology, processes, and people. 65 hour weeks and you are paid half minimum wage once over 40 hours though are required to stay the full 65. Whatever helps pay for those football tv ads I guess.</td>\n",
              "      <td>Associate Banker (Former Employee)</td>\n",
              "      <td>Phoenix, AZ</td>\n",
              "      <td>September 17, 2020</td>\n",
              "      <td>https://www.indeed.com/cmp/Quicken-Loans/reviews?start=60</td>\n",
              "      <td>Negative</td>\n",
              "      <td>Negative</td>\n",
              "      <td>False</td>\n",
              "      <td>NaN</td>\n",
              "    </tr>\n",
              "    <tr>\n",
              "      <th>3</th>\n",
              "      <td>Banks and Financial Services</td>\n",
              "      <td>79</td>\n",
              "      <td>Amazing organization that has deep rooted ethics based on the idea of \"always doing what is right\".</td>\n",
              "      <td>Alot of job ads say \"uncapped earning potential\" or \"uncapped commission\" to draw folks in but rarely is that relevant for 90% of new hires. However at Quicken Loans you can truly bust your butt and earn a life changing amount of money within your first year. If you can pass the licensing exam and stick it out for the first few months of banking the rewards that follow seem truly endless. After my first 12 calendar months at the company (with the first 4 months not writing loans) I have cleared close to $200,000. With the opportunity to earn such an incredible living, the job does require dedication, flexibility, humility, and the willingness to do what is needed or to go the extra mile to get the job done. The common sleight against the company would be the hours. I typically work about +/- 60 hours a week in addition to clients frequently calling and texting my cell phone while off the clock. This sacrifice is very easy to justify once you start to see success, which can come very fast. I would highly recommend any friends or family to interview at QL. Whether it is for a position in banking, or the thousands of support positions between the family of companies, the opportunity for growth and change is limitless. For the first time in my professional career I can say I have absolute faith in my employer to do right by not only myself but also for each client we interact with.</td>\n",
              "      <td>Senior Mortgage Banker (Current Employee)</td>\n",
              "      <td>Detroit, MI / Remote</td>\n",
              "      <td>July 20, 2020</td>\n",
              "      <td>https://www.indeed.com/cmp/Quicken-Loans/reviews?start=60</td>\n",
              "      <td>Positive</td>\n",
              "      <td>Positive</td>\n",
              "      <td>False</td>\n",
              "      <td>NaN</td>\n",
              "    </tr>\n",
              "    <tr>\n",
              "      <th>4</th>\n",
              "      <td>Banks and Financial Services</td>\n",
              "      <td>97</td>\n",
              "      <td>Great Place to Work!</td>\n",
              "      <td>Wonderful environment and you can tell your leaders really care about you. Working here is rewarding, however you have to be in charge of your own work life balance here.</td>\n",
              "      <td>Technology Recruiter (Former Employee)</td>\n",
              "      <td>Detroit, MI</td>\n",
              "      <td>February 15, 2020</td>\n",
              "      <td>https://www.indeed.com/cmp/Quicken-Loans/reviews?start=80</td>\n",
              "      <td>Positive</td>\n",
              "      <td>Positive</td>\n",
              "      <td>False</td>\n",
              "      <td>NaN</td>\n",
              "    </tr>\n",
              "  </tbody>\n",
              "</table>\n",
              "</div>"
            ],
            "text/plain": [
              "                       category  id  ... unmatched Unnamed: 11\n",
              "0  Banks and Financial Services  50  ...     False         NaN\n",
              "1  Banks and Financial Services  65  ...     False         NaN\n",
              "2  Banks and Financial Services  66  ...     False         NaN\n",
              "3  Banks and Financial Services  79  ...     False         NaN\n",
              "4  Banks and Financial Services  97  ...     False         NaN\n",
              "\n",
              "[5 rows x 12 columns]"
            ]
          },
          "metadata": {
            "tags": []
          },
          "execution_count": 5
        }
      ]
    },
    {
      "cell_type": "code",
      "metadata": {
        "colab": {
          "base_uri": "https://localhost:8080/",
          "height": 580
        },
        "id": "ahTzZUL12HAj",
        "outputId": "233e7ca5-960b-439d-9831-223fe8e5f8bc"
      },
      "source": [
        "comment_df = df[['review', 'label_1']]\n",
        "comment_df = comment_df.rename({'review': 'text','label_1': 'label'}, axis=1)\n",
        "comment_df = comment_df[comment_df.label != '?']\n",
        "\n",
        "# print(len(comment_df[comment_df.label == 'Positive']))\n",
        "# print(len(comment_df[comment_df.label == 'Negative']))\n",
        "# print(len(comment_df[comment_df.label == 'Neutral']))\n",
        "\n",
        "print(comment_df.shape)\n",
        "\n",
        "def convert_numerical(x):\n",
        "    if x=='Positive':\n",
        "      return 1\n",
        "    if x=='Negative':\n",
        "      return 0\n",
        "    return -1\n",
        "\n",
        "comment_df['label'] = comment_df['label'].apply(convert_numerical)\n",
        "comment_df = comment_df[comment_df['label'] != -1 ]\n",
        "print(comment_df.shape)\n",
        "comment_df.head(10)"
      ],
      "execution_count": null,
      "outputs": [
        {
          "output_type": "stream",
          "text": [
            "(1487, 2)\n",
            "(987, 2)\n"
          ],
          "name": "stdout"
        },
        {
          "output_type": "execute_result",
          "data": {
            "text/html": [
              "<div>\n",
              "<style scoped>\n",
              "    .dataframe tbody tr th:only-of-type {\n",
              "        vertical-align: middle;\n",
              "    }\n",
              "\n",
              "    .dataframe tbody tr th {\n",
              "        vertical-align: top;\n",
              "    }\n",
              "\n",
              "    .dataframe thead th {\n",
              "        text-align: right;\n",
              "    }\n",
              "</style>\n",
              "<table border=\"1\" class=\"dataframe\">\n",
              "  <thead>\n",
              "    <tr style=\"text-align: right;\">\n",
              "      <th></th>\n",
              "      <th>text</th>\n",
              "      <th>label</th>\n",
              "    </tr>\n",
              "  </thead>\n",
              "  <tbody>\n",
              "    <tr>\n",
              "      <th>1</th>\n",
              "      <td>I loved working with Quicken Loans. As a mortgage banker your time gets lost quick. You don't really realize how much you are working until you take a step back. All positions besides a mortgage banker have a pretty good work-life balance. The best company to work for. Period.</td>\n",
              "      <td>1</td>\n",
              "    </tr>\n",
              "    <tr>\n",
              "      <th>2</th>\n",
              "      <td>Company cares more about selling their casinos and buying baseball teams than their technology, processes, and people. 65 hour weeks and you are paid half minimum wage once over 40 hours though are required to stay the full 65. Whatever helps pay for those football tv ads I guess.</td>\n",
              "      <td>0</td>\n",
              "    </tr>\n",
              "    <tr>\n",
              "      <th>3</th>\n",
              "      <td>Alot of job ads say \"uncapped earning potential\" or \"uncapped commission\" to draw folks in but rarely is that relevant for 90% of new hires. However at Quicken Loans you can truly bust your butt and earn a life changing amount of money within your first year. If you can pass the licensing exam and stick it out for the first few months of banking the rewards that follow seem truly endless. After my first 12 calendar months at the company (with the first 4 months not writing loans) I have cleared close to $200,000. With the opportunity to earn such an incredible living, the job does require dedication, flexibility, humility, and the willingness to do what is needed or to go the extra mile to get the job done. The common sleight against the company would be the hours. I typically work about +/- 60 hours a week in addition to clients frequently calling and texting my cell phone while off the clock. This sacrifice is very easy to justify once you start to see success, which can come very fast. I would highly recommend any friends or family to interview at QL. Whether it is for a position in banking, or the thousands of support positions between the family of companies, the opportunity for growth and change is limitless. For the first time in my professional career I can say I have absolute faith in my employer to do right by not only myself but also for each client we interact with.</td>\n",
              "      <td>1</td>\n",
              "    </tr>\n",
              "    <tr>\n",
              "      <th>4</th>\n",
              "      <td>Wonderful environment and you can tell your leaders really care about you. Working here is rewarding, however you have to be in charge of your own work life balance here.</td>\n",
              "      <td>1</td>\n",
              "    </tr>\n",
              "    <tr>\n",
              "      <th>5</th>\n",
              "      <td>Quicken Loans was as advertised. You will be expected to work hard and to play hard. In the five years that I was there, I made great friends and learned a ton.</td>\n",
              "      <td>1</td>\n",
              "    </tr>\n",
              "    <tr>\n",
              "      <th>7</th>\n",
              "      <td>The company is so inviting during the recruiting process and during training they tell you youâre only working so much to learn everything. Months go by and youâre still working 65-75 hours. They say weâre supposed to have every other weekend off but thatâs not the case we work 15 hours Mon-Fri and every weekend. No work life balance.</td>\n",
              "      <td>0</td>\n",
              "    </tr>\n",
              "    <tr>\n",
              "      <th>8</th>\n",
              "      <td>Culture is great, compensation is not. Is is an enjoyable place to go, but for a technology company, they do have the benefits of most big companies..</td>\n",
              "      <td>1</td>\n",
              "    </tr>\n",
              "    <tr>\n",
              "      <th>9</th>\n",
              "      <td>So many perks. Love the QL outings! Great atmosphere Amazing benefits Amazing gifts and prizes all the time. Great culture You make amazing friends The pay is awesome When youâre at work you forget that youâre working 11 or 12 hr days. No complaints at all.</td>\n",
              "      <td>1</td>\n",
              "    </tr>\n",
              "    <tr>\n",
              "      <th>11</th>\n",
              "      <td>Fun, steady paced work environment. Mostly trouble shooting for clients to help them access their QL accounts or guiding the client through the QL site in order to get their 1098 printed.</td>\n",
              "      <td>1</td>\n",
              "    </tr>\n",
              "    <tr>\n",
              "      <th>12</th>\n",
              "      <td>Being a Financial Advisor at Morgan Stanley you are exposed to the best thinking on Wall Street. You learn a lot and are able to take what fits you and infuse it into your own practice.</td>\n",
              "      <td>1</td>\n",
              "    </tr>\n",
              "  </tbody>\n",
              "</table>\n",
              "</div>"
            ],
            "text/plain": [
              "                                                                                                                                                                                                                                                                                                                                                                                                                                                                                                                                                                                                                                                                                                                                                                                                                                                                                                                                                                                                                                                                                                                                                                                                                                                                                                                                                                                                                                                         text  label\n",
              "1                                                                                                                                                                                                                                                                                                                                                                                                                                                                                                                                                                                                                                                                                                                                                                                                                                                                                                                                                                                                                                                                                                                                                                      I loved working with Quicken Loans. As a mortgage banker your time gets lost quick. You don't really realize how much you are working until you take a step back. All positions besides a mortgage banker have a pretty good work-life balance. The best company to work for. Period.       1\n",
              "2                                                                                                                                                                                                                                                                                                                                                                                                                                                                                                                                                                                                                                                                                                                                                                                                                                                                                                                                                                                                                                                                                                                                                                  Company cares more about selling their casinos and buying baseball teams than their technology, processes, and people. 65 hour weeks and you are paid half minimum wage once over 40 hours though are required to stay the full 65. Whatever helps pay for those football tv ads I guess.       0\n",
              "3   Alot of job ads say \"uncapped earning potential\" or \"uncapped commission\" to draw folks in but rarely is that relevant for 90% of new hires. However at Quicken Loans you can truly bust your butt and earn a life changing amount of money within your first year. If you can pass the licensing exam and stick it out for the first few months of banking the rewards that follow seem truly endless. After my first 12 calendar months at the company (with the first 4 months not writing loans) I have cleared close to $200,000. With the opportunity to earn such an incredible living, the job does require dedication, flexibility, humility, and the willingness to do what is needed or to go the extra mile to get the job done. The common sleight against the company would be the hours. I typically work about +/- 60 hours a week in addition to clients frequently calling and texting my cell phone while off the clock. This sacrifice is very easy to justify once you start to see success, which can come very fast. I would highly recommend any friends or family to interview at QL. Whether it is for a position in banking, or the thousands of support positions between the family of companies, the opportunity for growth and change is limitless. For the first time in my professional career I can say I have absolute faith in my employer to do right by not only myself but also for each client we interact with.       1\n",
              "4                                                                                                                                                                                                                                                                                                                                                                                                                                                                                                                                                                                                                                                                                                                                                                                                                                                                                                                                                                                                                                                                                                                                                                                                                                                                                  Wonderful environment and you can tell your leaders really care about you. Working here is rewarding, however you have to be in charge of your own work life balance here.      1\n",
              "5                                                                                                                                                                                                                                                                                                                                                                                                                                                                                                                                                                                                                                                                                                                                                                                                                                                                                                                                                                                                                                                                                                                                                                                                                                                                                            Quicken Loans was as advertised. You will be expected to work hard and to play hard. In the five years that I was there, I made great friends and learned a ton.      1\n",
              "7                                                                                                                                                                                                                                                                                                                                                                                                                                                                                                                                                                                                                                                                                                                                                                                                                                                                                                                                                                                                                                                                                                    The company is so inviting during the recruiting process and during training they tell you youâre only working so much to learn everything. Months go by and youâre still working 65-75 hours. They say weâre supposed to have every other weekend off but thatâs not the case we work 15 hours Mon-Fri and every weekend. No work life balance.      0\n",
              "8                                                                                                                                                                                                                                                                                                                                                                                                                                                                                                                                                                                                                                                                                                                                                                                                                                                                                                                                                                                                                                                                                                                                                                                                                                                                                                      Culture is great, compensation is not. Is is an enjoyable place to go, but for a technology company, they do have the benefits of most big companies..      1\n",
              "9                                                                                                                                                                                                                                                                                                                                                                                                                                                                                                                                                                                                                                                                                                                                                                                                                                                                                                                                                                                                                                                                                                                                                                                       So many perks. Love the QL outings! Great atmosphere Amazing benefits Amazing gifts and prizes all the time. Great culture You make amazing friends The pay is awesome When youâre at work you forget that youâre working 11 or 12 hr days. No complaints at all.      1\n",
              "11                                                                                                                                                                                                                                                                                                                                                                                                                                                                                                                                                                                                                                                                                                                                                                                                                                                                                                                                                                                                                                                                                                                                                                                                                                                                Fun, steady paced work environment. Mostly trouble shooting for clients to help them access their QL accounts or guiding the client through the QL site in order to get their 1098 printed.      1\n",
              "12                                                                                                                                                                                                                                                                                                                                                                                                                                                                                                                                                                                                                                                                                                                                                                                                                                                                                                                                                                                                                                                                                                                                                                                                                                                                 Being a Financial Advisor at Morgan Stanley you are exposed to the best thinking on Wall Street. You learn a lot and are able to take what fits you and infuse it into your own practice.       1"
            ]
          },
          "metadata": {
            "tags": []
          },
          "execution_count": 15
        }
      ]
    },
    {
      "cell_type": "code",
      "metadata": {
        "colab": {
          "base_uri": "https://localhost:8080/"
        },
        "id": "-6Z6REwGM6rG",
        "outputId": "3cdef9e3-1263-4eda-e4c9-f1edac7068fe"
      },
      "source": [
        "PRE_TRAINED_MODEL_NAME = 'bert-base-cased'\n",
        "\n",
        "tokenizer = BertTokenizer.from_pretrained(PRE_TRAINED_MODEL_NAME)\n",
        "len(tokenizer.vocab)"
      ],
      "execution_count": null,
      "outputs": [
        {
          "output_type": "execute_result",
          "data": {
            "text/plain": [
              "28996"
            ]
          },
          "metadata": {
            "tags": []
          },
          "execution_count": 16
        }
      ]
    },
    {
      "cell_type": "code",
      "metadata": {
        "id": "4p9LY04rzzpW"
      },
      "source": [
        "from torch.utils.data import Dataset, DataLoader\n",
        "class ReviewDataset(Dataset):\n",
        "  def __init__(self, reviews, targets, tokenizer, max_len):\n",
        "    self.reviews = reviews\n",
        "    self.targets = targets\n",
        "    self.tokenizer = tokenizer\n",
        "    self.max_len = max_len\n",
        "    \n",
        "  def __len__(self):\n",
        "    return len(self.reviews)\n",
        "\n",
        "  def __getitem__(self, item):\n",
        "    review = str(self.reviews[item])\n",
        "    target = self.targets[item]\n",
        "    encoding = self.tokenizer.encode_plus(\n",
        "      review,\n",
        "      add_special_tokens=True,\n",
        "      max_length=self.max_len,\n",
        "      return_token_type_ids=False,\n",
        "      pad_to_max_length=True,\n",
        "      return_attention_mask=True,\n",
        "      return_tensors='pt',\n",
        "      truncation=True\n",
        "    )\n",
        "\n",
        "    return {\n",
        "      'review_text': review,\n",
        "      'input_ids': encoding['input_ids'].flatten(),\n",
        "      'attention_mask': encoding['attention_mask'].flatten(),\n",
        "      'targets': torch.tensor(target, dtype=torch.long)\n",
        "    }"
      ],
      "execution_count": null,
      "outputs": []
    },
    {
      "cell_type": "code",
      "metadata": {
        "colab": {
          "base_uri": "https://localhost:8080/"
        },
        "id": "vL3uoJVF0lgI",
        "outputId": "23803c9a-c27f-4f66-bf3d-fcbbcd4d47b0"
      },
      "source": [
        "import numpy as np\n",
        "RANDOM_SEED = 42\n",
        "np.random.seed(RANDOM_SEED)\n",
        "torch.manual_seed(RANDOM_SEED)\n"
      ],
      "execution_count": null,
      "outputs": [
        {
          "output_type": "execute_result",
          "data": {
            "text/plain": [
              "<torch._C.Generator at 0x7efcbcb538f0>"
            ]
          },
          "metadata": {
            "tags": []
          },
          "execution_count": 18
        }
      ]
    },
    {
      "cell_type": "code",
      "metadata": {
        "id": "8p6dtXLSM2ez"
      },
      "source": [
        "from sklearn.model_selection import train_test_split\n",
        "\n",
        "df_train, df_test = train_test_split(\n",
        "  comment_df,\n",
        "  test_size=0.2,\n",
        "  random_state=RANDOM_SEED\n",
        ")\n",
        "df_train, df_val = train_test_split(\n",
        "  df_train,\n",
        "  test_size=0.2,\n",
        "  random_state=RANDOM_SEED\n",
        ")"
      ],
      "execution_count": null,
      "outputs": []
    },
    {
      "cell_type": "code",
      "metadata": {
        "id": "Kzg4tihy1qQT"
      },
      "source": [
        "df_train = pd.read_csv(\"shared_train_set.csv\")\n",
        "df_test = pd.read_csv(\"shared_test_set.csv\")\n",
        "\n"
      ],
      "execution_count": null,
      "outputs": []
    },
    {
      "cell_type": "code",
      "metadata": {
        "colab": {
          "base_uri": "https://localhost:8080/"
        },
        "id": "00PRaxN20uqx",
        "outputId": "cdac27ce-b44c-4239-f684-bbf8c5a47283"
      },
      "source": [
        "df_train_neutral = df_train[df_train['label'] == 0]\n",
        "df_train_pos = df_train[df_train['label'] == 1]\n",
        "df_train_neg = df_train[df_train['label'] == 2]\n",
        "df_train_neutral.shape, df_train_pos.shape, df_train_neg.shape"
      ],
      "execution_count": null,
      "outputs": [
        {
          "output_type": "execute_result",
          "data": {
            "text/plain": [
              "((390, 2), (422, 2), (377, 2))"
            ]
          },
          "metadata": {
            "tags": []
          },
          "execution_count": 11
        }
      ]
    },
    {
      "cell_type": "code",
      "metadata": {
        "colab": {
          "base_uri": "https://localhost:8080/"
        },
        "id": "K12mDT4z1BNb",
        "outputId": "e7920b49-d604-4493-9a79-3d49693d67f1"
      },
      "source": [
        "df_test_neutral = df_test[df_test['label'] == 0]\n",
        "df_test_pos = df_test[df_test['label'] == 1]\n",
        "df_test_neg = df_test[df_test['label'] == 2]\n",
        "df_test_neutral.shape, df_test_pos.shape, df_test_neg.shape"
      ],
      "execution_count": null,
      "outputs": [
        {
          "output_type": "execute_result",
          "data": {
            "text/plain": [
              "((110, 2), (94, 2), (94, 2))"
            ]
          },
          "metadata": {
            "tags": []
          },
          "execution_count": 12
        }
      ]
    },
    {
      "cell_type": "code",
      "metadata": {
        "id": "lzM991Gz1HcU"
      },
      "source": [
        "df_train = pd.concat([df_train_pos,df_train_neg]).sample(frac=1)"
      ],
      "execution_count": null,
      "outputs": []
    },
    {
      "cell_type": "code",
      "metadata": {
        "id": "_XYZGuKL1hw_"
      },
      "source": [
        "df_test = pd.concat([df_test_pos, df_test_neg]).sample(frac=1)"
      ],
      "execution_count": null,
      "outputs": []
    },
    {
      "cell_type": "code",
      "metadata": {
        "colab": {
          "base_uri": "https://localhost:8080/"
        },
        "id": "IEd5BEOB6NsV",
        "outputId": "711d5385-1a42-49ea-88ea-8ed119ec1841"
      },
      "source": [
        "def convert_numerical(x):\n",
        "    if x==1:\n",
        "      return 1\n",
        "    return 0\n",
        "\n",
        "df_train['label'] = df_train['label'].apply(convert_numerical)\n",
        "df_test['label'] = df_test['label'].apply(convert_numerical)\n",
        "df_train.label.value_counts()"
      ],
      "execution_count": null,
      "outputs": [
        {
          "output_type": "execute_result",
          "data": {
            "text/plain": [
              "1    422\n",
              "0    377\n",
              "Name: label, dtype: int64"
            ]
          },
          "metadata": {
            "tags": []
          },
          "execution_count": 18
        }
      ]
    },
    {
      "cell_type": "code",
      "metadata": {
        "colab": {
          "base_uri": "https://localhost:8080/"
        },
        "id": "Qx8BMYnh9fuo",
        "outputId": "32c1f14d-b482-46ce-a26e-a6047e84e933"
      },
      "source": [
        "df_test.label.value_counts()"
      ],
      "execution_count": null,
      "outputs": [
        {
          "output_type": "execute_result",
          "data": {
            "text/plain": [
              "1    94\n",
              "0    94\n",
              "Name: label, dtype: int64"
            ]
          },
          "metadata": {
            "tags": []
          },
          "execution_count": 19
        }
      ]
    },
    {
      "cell_type": "code",
      "metadata": {
        "id": "chIe4Epi2a34"
      },
      "source": [
        "from sklearn.model_selection import train_test_split\n",
        "df_train, df_val = train_test_split(\n",
        "  df_train,\n",
        "  test_size=0.05,\n",
        "  random_state=RANDOM_SEED\n",
        ")"
      ],
      "execution_count": null,
      "outputs": []
    },
    {
      "cell_type": "code",
      "metadata": {
        "colab": {
          "base_uri": "https://localhost:8080/"
        },
        "id": "IHq2QWXX9ijR",
        "outputId": "782474d1-9f7f-4ee9-9787-3bc3fd2a4990"
      },
      "source": [
        "df_val.label.value_counts()"
      ],
      "execution_count": null,
      "outputs": [
        {
          "output_type": "execute_result",
          "data": {
            "text/plain": [
              "0    22\n",
              "1    18\n",
              "Name: label, dtype: int64"
            ]
          },
          "metadata": {
            "tags": []
          },
          "execution_count": 22
        }
      ]
    },
    {
      "cell_type": "code",
      "metadata": {
        "colab": {
          "base_uri": "https://localhost:8080/"
        },
        "id": "-zovAndA0tPT",
        "outputId": "66c55abc-3f43-4ffa-8b66-19f4cc8704f3"
      },
      "source": [
        "df_train.shape, df_val.shape, df_test.shape"
      ],
      "execution_count": null,
      "outputs": [
        {
          "output_type": "execute_result",
          "data": {
            "text/plain": [
              "((631, 2), (158, 2), (198, 2))"
            ]
          },
          "metadata": {
            "tags": []
          },
          "execution_count": 20
        }
      ]
    },
    {
      "cell_type": "code",
      "metadata": {
        "id": "JKvoSj0c4lws"
      },
      "source": [
        "def create_data_loader(df, tokenizer, max_len, batch_size):\n",
        "  ds = ReviewDataset(\n",
        "    reviews=df['text'].to_numpy(),\n",
        "    targets=df['label'].to_numpy(),\n",
        "    tokenizer=tokenizer,\n",
        "    max_len=max_len\n",
        "  )\n",
        "  return DataLoader(\n",
        "    ds,\n",
        "    batch_size=batch_size,\n",
        "    num_workers=2\n",
        "  )\n",
        "\n",
        "from transformers import BertModel, BertTokenizer, AdamW, get_linear_schedule_with_warmup\n",
        "from torch import nn, optim\n",
        "\n",
        "class SentimentClassifier(nn.Module):\n",
        "  def __init__(self, n_classes):\n",
        "    super(SentimentClassifier, self).__init__()\n",
        "    self.bert = BertModel.from_pretrained(PRE_TRAINED_MODEL_NAME)\n",
        "    self.drop = nn.Dropout(p=0)\n",
        "    self.out = nn.Linear(self.bert.config.hidden_size, n_classes)\n",
        "  def forward(self, input_ids, attention_mask):\n",
        "    _, pooled_output = self.bert(\n",
        "      input_ids=input_ids,\n",
        "      attention_mask=attention_mask\n",
        "    )\n",
        "    output = self.drop(pooled_output)\n",
        "    return self.out(output)\n",
        "\n",
        "def train_epoch(\n",
        "  model,\n",
        "  data_loader,\n",
        "  loss_fn,\n",
        "  optimizer,\n",
        "  device,\n",
        "  scheduler,\n",
        "  n_examples\n",
        "):\n",
        "  model = model.train()\n",
        "  losses = []\n",
        "  correct_predictions = 0\n",
        "  for d in data_loader:\n",
        "    input_ids = d[\"input_ids\"].to(device)\n",
        "    attention_mask = d[\"attention_mask\"].to(device)\n",
        "    targets = d[\"targets\"].to(device)\n",
        "    outputs = model(\n",
        "      input_ids=input_ids,\n",
        "      attention_mask=attention_mask\n",
        "    )\n",
        "    _, preds = torch.max(outputs, dim=1)\n",
        "    loss = loss_fn(outputs, targets)\n",
        "    correct_predictions += torch.sum(preds == targets)\n",
        "    losses.append(loss.item())\n",
        "    loss.backward()\n",
        "    nn.utils.clip_grad_norm_(model.parameters(), max_norm=1.0)\n",
        "    optimizer.step()\n",
        "    scheduler.step()\n",
        "    optimizer.zero_grad()\n",
        "  return correct_predictions.double() / n_examples, np.mean(losses)\n",
        "\n",
        "def eval_model(model, data_loader, loss_fn, device, n_examples):\n",
        "  model = model.eval()\n",
        "  losses = []\n",
        "  correct_predictions = 0\n",
        "  with torch.no_grad():\n",
        "    for d in data_loader:\n",
        "      input_ids = d[\"input_ids\"].to(device)\n",
        "      attention_mask = d[\"attention_mask\"].to(device)\n",
        "      targets = d[\"targets\"].to(device)\n",
        "      outputs = model(\n",
        "        input_ids=input_ids,\n",
        "        attention_mask=attention_mask\n",
        "      )\n",
        "      _, preds = torch.max(outputs, dim=1)\n",
        "      loss = loss_fn(outputs, targets)\n",
        "      correct_predictions += torch.sum(preds == targets)\n",
        "      losses.append(loss.item())\n",
        "  return correct_predictions.double() / n_examples, np.mean(losses)\n"
      ],
      "execution_count": null,
      "outputs": []
    },
    {
      "cell_type": "code",
      "metadata": {
        "id": "VLE-gBNG02rV"
      },
      "source": [
        "MAX_LEN = 250\n",
        "\n",
        "BATCH_SIZE = 4\n",
        "train_data_loader = create_data_loader(df_train, tokenizer, MAX_LEN, BATCH_SIZE)\n",
        "val_data_loader = create_data_loader(df_val, tokenizer, MAX_LEN, BATCH_SIZE)\n",
        "test_data_loader = create_data_loader(df_test, tokenizer, MAX_LEN, BATCH_SIZE)\n",
        "\n",
        "model = SentimentClassifier(2)\n",
        "device = torch.device(\"cuda:0\" if torch.cuda.is_available() else \"cpu\")\n",
        "model = model.to(device)\n",
        "\n",
        "EPOCHS = 25\n",
        "optimizer = AdamW(model.parameters(), lr=2e-5, correct_bias=False)\n",
        "total_steps = len(train_data_loader) * EPOCHS\n",
        "scheduler = get_linear_schedule_with_warmup(\n",
        "  optimizer,\n",
        "  num_warmup_steps=0,\n",
        "  num_training_steps=total_steps\n",
        ")\n",
        "loss_fn = nn.CrossEntropyLoss().to(device)"
      ],
      "execution_count": null,
      "outputs": []
    },
    {
      "cell_type": "code",
      "metadata": {
        "colab": {
          "base_uri": "https://localhost:8080/"
        },
        "id": "pslfsxbu4uqH",
        "outputId": "58399356-40cc-48f6-f2de-54f63d19cb96"
      },
      "source": [
        "%%time\n",
        "from collections import defaultdict\n",
        "history = defaultdict(list)\n",
        "best_accuracy = 0\n",
        "for epoch in range(EPOCHS):\n",
        "  print(f'Epoch {epoch + 1}/{EPOCHS}')\n",
        "  print('-' * 10)\n",
        "  train_acc, train_loss = train_epoch(\n",
        "    model,\n",
        "    train_data_loader,\n",
        "    loss_fn,\n",
        "    optimizer,\n",
        "    device,\n",
        "    scheduler,\n",
        "    len(df_train)\n",
        "  )\n",
        "  print(f'Train loss {train_loss} accuracy {train_acc}')\n",
        "  val_acc, val_loss = eval_model(\n",
        "    model,\n",
        "    val_data_loader,\n",
        "    loss_fn,\n",
        "    device,\n",
        "    len(df_val)\n",
        "  )\n",
        "  print(f'Val   loss {val_loss} accuracy {val_acc}')\n",
        "  print()\n",
        "  history['train_acc'].append(train_acc)\n",
        "  history['train_loss'].append(train_loss)\n",
        "  history['val_acc'].append(val_acc)\n",
        "  history['val_loss'].append(val_loss)\n",
        "  if val_acc > best_accuracy:\n",
        "    torch.save(model.state_dict(), 'best_model_state_subjectivity_shared_set.bin')\n",
        "    best_accuracy = val_acc"
      ],
      "execution_count": null,
      "outputs": [
        {
          "output_type": "stream",
          "text": [
            "Epoch 1/25\n",
            "----------\n",
            "Train loss 0.45651032264076197 accuracy 0.8811410459587956\n",
            "Val   loss 0.39290828540688383 accuracy 0.8924050632911392\n",
            "\n",
            "Epoch 2/25\n",
            "----------\n",
            "Train loss 0.15992383326844406 accuracy 0.971473851030111\n",
            "Val   loss 0.20129356544348412 accuracy 0.9556962025316456\n",
            "\n",
            "Epoch 3/25\n",
            "----------\n",
            "Train loss 0.05960692145660537 accuracy 0.988906497622821\n",
            "Val   loss 0.2390933004753606 accuracy 0.9556962025316456\n",
            "\n",
            "Epoch 4/25\n",
            "----------\n",
            "Train loss 0.00020342264247983046 accuracy 1.0\n",
            "Val   loss 0.24180384481242073 accuracy 0.9620253164556962\n",
            "\n",
            "Epoch 5/25\n",
            "----------\n",
            "Train loss 0.011658472540631596 accuracy 0.9984152139461173\n",
            "Val   loss 0.327878828721623 accuracy 0.9493670886075949\n",
            "\n",
            "Epoch 6/25\n",
            "----------\n",
            "Train loss 0.008586688428997288 accuracy 0.9984152139461173\n",
            "Val   loss 0.2891218042469518 accuracy 0.9620253164556962\n",
            "\n",
            "Epoch 7/25\n",
            "----------\n",
            "Train loss 4.4412727554198326e-05 accuracy 1.0\n",
            "Val   loss 0.29895745103194715 accuracy 0.9620253164556962\n",
            "\n",
            "Epoch 8/25\n",
            "----------\n",
            "Train loss 3.310563015820432e-05 accuracy 1.0\n",
            "Val   loss 0.32644113158830806 accuracy 0.9556962025316456\n",
            "\n",
            "Epoch 9/25\n",
            "----------\n",
            "Train loss 2.5902987648736643e-05 accuracy 1.0\n",
            "Val   loss 0.3432191343417571 accuracy 0.9556962025316456\n",
            "\n",
            "Epoch 10/25\n",
            "----------\n",
            "Train loss 2.0652877653067007e-05 accuracy 1.0\n",
            "Val   loss 0.3517783216879252 accuracy 0.9556962025316456\n",
            "\n",
            "Epoch 11/25\n",
            "----------\n",
            "Train loss 1.7131613869331645e-05 accuracy 1.0\n",
            "Val   loss 0.357128564480945 accuracy 0.9556962025316456\n",
            "\n",
            "Epoch 12/25\n",
            "----------\n",
            "Train loss 1.5098563662947147e-05 accuracy 1.0\n",
            "Val   loss 0.3614456616839107 accuracy 0.9556962025316456\n",
            "\n",
            "Epoch 13/25\n",
            "----------\n",
            "Train loss 1.3807569423908164e-05 accuracy 1.0\n",
            "Val   loss 0.3667772292356176 accuracy 0.9556962025316456\n",
            "\n",
            "Epoch 14/25\n",
            "----------\n",
            "Train loss 1.2627289097393639e-05 accuracy 1.0\n",
            "Val   loss 0.36911552711326295 accuracy 0.9556962025316456\n",
            "\n",
            "Epoch 15/25\n",
            "----------\n",
            "Train loss 1.1064061375610792e-05 accuracy 1.0\n",
            "Val   loss 0.371830422892333 accuracy 0.9556962025316456\n",
            "\n",
            "Epoch 16/25\n",
            "----------\n",
            "Train loss 1.044567393882626e-05 accuracy 1.0\n",
            "Val   loss 0.37538790131656014 accuracy 0.9556962025316456\n",
            "\n",
            "Epoch 17/25\n",
            "----------\n",
            "Train loss 9.381890736855169e-06 accuracy 1.0\n",
            "Val   loss 0.37719132388484694 accuracy 0.9556962025316456\n",
            "\n",
            "Epoch 18/25\n",
            "----------\n",
            "Train loss 8.955797220896553e-06 accuracy 1.0\n",
            "Val   loss 0.37927745723671935 accuracy 0.9556962025316456\n",
            "\n",
            "Epoch 19/25\n",
            "----------\n",
            "Train loss 8.299207417587263e-06 accuracy 1.0\n",
            "Val   loss 0.3820521759708072 accuracy 0.9556962025316456\n",
            "\n",
            "Epoch 20/25\n",
            "----------\n",
            "Train loss 8.507561521087787e-06 accuracy 1.0\n",
            "Val   loss 0.38015019295924046 accuracy 0.9556962025316456\n",
            "\n",
            "Epoch 21/25\n",
            "----------\n",
            "Train loss 7.433130533656045e-06 accuracy 1.0\n",
            "Val   loss 0.3818447517051027 accuracy 0.9556962025316456\n",
            "\n",
            "Epoch 22/25\n",
            "----------\n",
            "Train loss 7.26764754382444e-06 accuracy 1.0\n",
            "Val   loss 0.38298799882217055 accuracy 0.9556962025316456\n",
            "\n",
            "Epoch 23/25\n",
            "----------\n",
            "Train loss 6.841429758078678e-06 accuracy 1.0\n",
            "Val   loss 0.38365507029734547 accuracy 0.9556962025316456\n",
            "\n",
            "Epoch 24/25\n",
            "----------\n",
            "Train loss 6.855511297613656e-06 accuracy 1.0\n",
            "Val   loss 0.38424987406369837 accuracy 0.9556962025316456\n",
            "\n",
            "Epoch 25/25\n",
            "----------\n",
            "Train loss 6.7553547938310845e-06 accuracy 1.0\n",
            "Val   loss 0.38435908840682487 accuracy 0.9556962025316456\n",
            "\n",
            "CPU times: user 8min 53s, sys: 6min 31s, total: 15min 25s\n",
            "Wall time: 15min 40s\n"
          ],
          "name": "stdout"
        }
      ]
    },
    {
      "cell_type": "code",
      "metadata": {
        "id": "RvwGR2YCJ_ji"
      },
      "source": [
        "import pickle\n",
        "pickle.dump(history,open('train_best_model_state_polarity0.94_history.pkl','wb'))"
      ],
      "execution_count": null,
      "outputs": []
    },
    {
      "cell_type": "code",
      "metadata": {
        "id": "LDmDrprzQals"
      },
      "source": [
        "torch.save(model.state_dict(), 'best_model_state_polarity0.94.bin')"
      ],
      "execution_count": null,
      "outputs": []
    },
    {
      "cell_type": "code",
      "metadata": {
        "id": "8RYR5siWKSOe"
      },
      "source": [
        "test_acc, _ = eval_model(\n",
        "  model,\n",
        "  test_data_loader,\n",
        "  loss_fn,\n",
        "  device,\n",
        "  len(df_test)\n",
        ")"
      ],
      "execution_count": null,
      "outputs": []
    },
    {
      "cell_type": "code",
      "metadata": {
        "colab": {
          "base_uri": "https://localhost:8080/"
        },
        "id": "S5r4Q_5wKVTx",
        "outputId": "b68e9e3d-9acb-4146-b7b6-2cd6ca78da38"
      },
      "source": [
        "test_acc.item()"
      ],
      "execution_count": null,
      "outputs": [
        {
          "output_type": "execute_result",
          "data": {
            "text/plain": [
              "0.9444444444444445"
            ]
          },
          "metadata": {
            "tags": []
          },
          "execution_count": 34
        }
      ]
    },
    {
      "cell_type": "code",
      "metadata": {
        "id": "WJnVVy1LKXYa"
      },
      "source": [
        "def get_predictions(model, data_loader):\n",
        "  model = model.eval()\n",
        "  review_texts = []\n",
        "  predictions = []\n",
        "  prediction_probs = []\n",
        "  real_values = []\n",
        "  with torch.no_grad():\n",
        "    for d in data_loader:\n",
        "      texts = d[\"review_text\"]\n",
        "      input_ids = d[\"input_ids\"].to(device)\n",
        "      attention_mask = d[\"attention_mask\"].to(device)\n",
        "      targets = d[\"targets\"].to(device)\n",
        "      outputs = model(\n",
        "        input_ids=input_ids,\n",
        "        attention_mask=attention_mask\n",
        "      )\n",
        "      _, preds = torch.max(outputs, dim=1)\n",
        "      review_texts.extend(texts)\n",
        "      predictions.extend(preds)\n",
        "      prediction_probs.extend(outputs)\n",
        "      real_values.extend(targets)\n",
        "  predictions = torch.stack(predictions).cpu()\n",
        "  prediction_probs = torch.stack(prediction_probs).cpu()\n",
        "  real_values = torch.stack(real_values).cpu()\n",
        "  return review_texts, predictions, prediction_probs, real_values"
      ],
      "execution_count": null,
      "outputs": []
    },
    {
      "cell_type": "code",
      "metadata": {
        "id": "QPbJZXqQF4i2"
      },
      "source": [
        "y_review_texts, y_pred, y_pred_probs, y_test = get_predictions(\n",
        "  model,\n",
        "  test_data_loader\n",
        ")"
      ],
      "execution_count": null,
      "outputs": []
    },
    {
      "cell_type": "code",
      "metadata": {
        "colab": {
          "base_uri": "https://localhost:8080/"
        },
        "id": "3VI5Nhj1Fy5n",
        "outputId": "ae2379c0-9c04-45e4-c4de-aba097983843"
      },
      "source": [
        "from sklearn.metrics import confusion_matrix, classification_report\n",
        "class_names = ['neutral', 'polarised']\n",
        "print(classification_report(y_test, y_pred, target_names=class_names))"
      ],
      "execution_count": null,
      "outputs": [
        {
          "output_type": "stream",
          "text": [
            "              precision    recall  f1-score   support\n",
            "\n",
            "     neutral       0.97      0.92      0.95       105\n",
            "   polarised       0.92      0.97      0.94        93\n",
            "\n",
            "    accuracy                           0.94       198\n",
            "   macro avg       0.94      0.95      0.94       198\n",
            "weighted avg       0.95      0.94      0.94       198\n",
            "\n"
          ],
          "name": "stdout"
        }
      ]
    },
    {
      "cell_type": "code",
      "metadata": {
        "id": "rD5LonRqGK1Y",
        "colab": {
          "base_uri": "https://localhost:8080/",
          "height": 518
        },
        "outputId": "cf9ed5b5-2cef-4b95-d7e6-b44a3ec4733c"
      },
      "source": [
        "\n",
        "import seaborn as sns\n",
        "import matplotlib.pyplot as plt\n",
        "def show_confusion_matrix(confusion_matrix):\n",
        "  plt.figure(figsize=(10,8))\n",
        "  hmap = sns.heatmap(confusion_matrix, annot=True, fmt=\"d\", cmap=\"Blues\")\n",
        "  hmap.yaxis.set_ticklabels(hmap.yaxis.get_ticklabels(), rotation=0, ha='right')\n",
        "  hmap.xaxis.set_ticklabels(hmap.xaxis.get_ticklabels(), rotation=30, ha='right')\n",
        "  \n",
        "  plt.ylabel('True sentiment')\n",
        "  plt.xlabel('Predicted sentiment');\n",
        "cm = confusion_matrix(y_test, y_pred)\n",
        "df_cm = pd.DataFrame(cm, index=class_names, columns=class_names)\n",
        "show_confusion_matrix(df_cm)"
      ],
      "execution_count": null,
      "outputs": [
        {
          "output_type": "display_data",
          "data": {
            "image/png": "[encoded data removed]",
            "text/plain": [
              "<Figure size 720x576 with 2 Axes>"
            ]
          },
          "metadata": {
            "tags": [],
            "needs_background": "light"
          }
        }
      ]
    }
  ]
}